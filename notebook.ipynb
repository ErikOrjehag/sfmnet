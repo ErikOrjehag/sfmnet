{
 "cells": [
  {
   "cell_type": "code",
   "execution_count": 1,
   "metadata": {},
   "outputs": [],
   "source": [
    "%matplotlib widget\n",
    "from mpl_toolkits.mplot3d import Axes3D\n",
    "import matplotlib.pyplot as plt\n",
    "import numpy as np\n",
    "\n",
    "import IO\n",
    "import torch\n",
    "from sequence_dataset import tensor_imshow, tensor_depthshow\n",
    "import cv2\n",
    "import inverse_warp"
   ]
  },
  {
   "cell_type": "code",
   "execution_count": 2,
   "metadata": {},
   "outputs": [],
   "source": [
    "disp, scale = IO.readPFM(\"/home/ai/Data/FlyingThings3D_subset/train/disparity/left/0000000.pfm\")\n",
    "image = IO.readImage(\"/home/ai/Data/FlyingThings3D_subset/train/image_clean/left/0000000.png\")\n",
    "disp = torch.from_numpy(np.ascontiguousarray(disp)).unsqueeze(0)\n",
    "image = torch.from_numpy(np.ascontiguousarray(image.transpose(2, 0, 1))).unsqueeze(0) / 255.0"
   ]
  },
  {
   "cell_type": "code",
   "execution_count": 3,
   "metadata": {},
   "outputs": [
    {
     "name": "stdout",
     "output_type": "stream",
     "text": [
      "torch.Size([1, 3, 3])\n",
      "torch.Size([1, 3, 4])\n",
      "torch.Size([1, 3, 4])\n",
      "tensor([[[  0.0000, 479.5000, 959.0000, 479.5000],\n",
      "         [  0.0000, 269.5000, 539.5000,   0.0000],\n",
      "         [  1.0000,   1.0000,   1.0000,   1.0000]]])\n",
      "tensor([[[-0.4567,  0.0000,  0.4567,  0.0000],\n",
      "         [-0.2567,  0.0000,  0.2571, -0.2567],\n",
      "         [ 1.0000,  1.0000,  1.0000,  1.0000]]])\n",
      "tensor([-0.4567,  0.0000,  0.4567,  0.0000])\n",
      "tensor([-0.2567,  0.0000,  0.2571, -0.2567])\n",
      "tensor([1., 1., 1., 1.])\n"
     ]
    }
   ],
   "source": [
    "f = 1050.0\n",
    "K = torch.tensor([\n",
    "    [f,   0.0, 479.5],\n",
    "    [0.0,   f, 269.5],\n",
    "    [0.0, 0.0,   1.0]\n",
    "]).unsqueeze(0)\n",
    "Kinv = K.inverse()\n",
    "pixels = torch.tensor([\n",
    "    [[0.0, 479.5, 959, 479.5],[0.0, 269.5, 539.5, 0.0],[1.0, 1.0, 1.0, 1.0]]\n",
    "])\n",
    "rays = Kinv @ pixels\n",
    "\n",
    "print(Kinv.shape)\n",
    "print(pixels.shape)\n",
    "print(rays.shape)\n",
    "\n",
    "print(pixels)\n",
    "print(rays)\n",
    "print(rays[0,0])\n",
    "print(rays[0,1])\n",
    "print(rays[0,2])"
   ]
  },
  {
   "cell_type": "code",
   "execution_count": 33,
   "metadata": {},
   "outputs": [
    {
     "name": "stdout",
     "output_type": "stream",
     "text": [
      "torch.Size([1, 1, 540, 960])\n",
      "---\n",
      "tensor([0., 0., 1.])\n",
      "tensor([-0.4567, -0.2567,  1.0000])\n",
      "tensor(30.)\n",
      "tensor([-13.7000,  -7.7000,  30.0000,   1.0000])\n",
      "tensor([-13.7000,  -7.7000,  30.0000])\n",
      "---\n",
      "tensor([959., 539.,   1.])\n",
      "tensor([0.4567, 0.2567, 1.0000])\n",
      "tensor(23.9487)\n",
      "tensor([10.9366,  6.1468, 23.9487,  1.0000])\n",
      "tensor([10.9366,  6.1468, 23.9487])\n"
     ]
    }
   ],
   "source": [
    "\n",
    "\n",
    "\n",
    "pose = torch.tensor([0.0, 0.0, 0.0, 0.0, 0.0, 0.0]).unsqueeze(0)\n",
    "#depth = torch.ones((image.shape[-2], image.shape[-1])).type_as(image).unsqueeze(0) * 2\n",
    "depth = (f * 1.0 / -disp).clamp(max=30)\n",
    "\n",
    "warped, valid, pixels, rays, world = inverse_warp.inverse_warp(image, depth, pose, K)\n",
    "D = depth.unsqueeze(1)\n",
    "world2 = D * rays\n",
    "\n",
    "print(D.shape)\n",
    "\n",
    "print(\"---\")\n",
    "print(pixels[0,:,0,0])\n",
    "print(rays[0,:,0,0])\n",
    "print(depth[0,0,0])\n",
    "print(world[0,:,0,0])\n",
    "print(world2[0,:,0,0])\n",
    "print(\"---\")\n",
    "print(pixels[0,:,-1,-1])\n",
    "print(rays[0,:,-1,-1])\n",
    "print(depth[0,-1,-1])\n",
    "print(world[0,:,-1,-1])\n",
    "print(world2[0,:,-1,-1])"
   ]
  },
  {
   "cell_type": "code",
   "execution_count": 29,
   "metadata": {},
   "outputs": [
    {
     "data": {
      "application/vnd.jupyter.widget-view+json": {
       "model_id": "f83a4c8eb8834f02baf0b53a47f9d6fc",
       "version_major": 2,
       "version_minor": 0
      },
      "text/plain": [
       "Canvas(toolbar=Toolbar(toolitems=[('Home', 'Reset original view', 'home', 'home'), ('Back', 'Back to previous …"
      ]
     },
     "metadata": {},
     "output_type": "display_data"
    }
   ],
   "source": [
    "fig = plt.figure()\n",
    "ax1 = fig.add_subplot(121)\n",
    "ax2 = fig.add_subplot(122)\n",
    "ax1.scatter(rays[0,0,...], rays[0,1,...])\n",
    "ax2.scatter(world[0,0,...], world[0,1,...])\n",
    "plt.show()"
   ]
  },
  {
   "cell_type": "code",
   "execution_count": 34,
   "metadata": {},
   "outputs": [
    {
     "data": {
      "application/vnd.jupyter.widget-view+json": {
       "model_id": "19753b4408964228bc0d685cca97e326",
       "version_major": 2,
       "version_minor": 0
      },
      "text/plain": [
       "Canvas(toolbar=Toolbar(toolitems=[('Home', 'Reset original view', 'home', 'home'), ('Back', 'Back to previous …"
      ]
     },
     "metadata": {},
     "output_type": "display_data"
    }
   ],
   "source": [
    "fig = plt.figure()\n",
    "ax1 = fig.add_subplot(121, projection='3d')\n",
    "ax2 = fig.add_subplot(122, projection='3d')\n",
    "ax1.scatter(rays[0,0,...][::1], rays[0,1,...][::1], rays[0,2,...][::1])\n",
    "ax2.scatter(world[0,0,...][::1], world[0,1,...][::1], world[0,2,...][::1])\n",
    "plt.show()"
   ]
  },
  {
   "cell_type": "code",
   "execution_count": null,
   "metadata": {},
   "outputs": [],
   "source": []
  }
 ],
 "metadata": {
  "kernelspec": {
   "display_name": "Python 3",
   "language": "python",
   "name": "python3"
  },
  "language_info": {
   "codemirror_mode": {
    "name": "ipython",
    "version": 3
   },
   "file_extension": ".py",
   "mimetype": "text/x-python",
   "name": "python",
   "nbconvert_exporter": "python",
   "pygments_lexer": "ipython3",
   "version": "3.6.9"
  }
 },
 "nbformat": 4,
 "nbformat_minor": 4
}
